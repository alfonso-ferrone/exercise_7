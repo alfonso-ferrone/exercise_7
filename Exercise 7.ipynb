{
 "cells": [
  {
   "cell_type": "markdown",
   "metadata": {},
   "source": [
    "# Exercise 7 - Fourier Transforms and Wavelet Transforms\n",
    "\n",
    "\n",
    "### Introduction\n",
    "\n",
    "\n",
    "In this exercise we will study two very versatile and useful transforms and see some examples of their uses in remote sensing using Python."
   ]
  },
  {
   "cell_type": "markdown",
   "metadata": {},
   "source": [
    "### How to use this jupyter notebook\n",
    "\n",
    "The jupyter notebook is composed by a series of *cells*, each one containing either Python code or text instruction.\n",
    "This text instruction that you are currently reading is a text cell.\n",
    "\n",
    "To run a cell, just click on the cell and then on the *Run* button at the top of the screen, or use the shortcut *Shift - Enter*.\n",
    "You will not need to run *text cells*.\n",
    "Only cells containing Python code need to be run, in order from the beginning of this jupyter notebook to its end. \n",
    "Since this Jupyter notebook runs online, you will not need to install anything on your personal computer.\n",
    "\n",
    "You are not required to have pregressed Python knowledge.\n",
    "All you will have to do is to modify the value of some quantities (or *variables*) to achieve the result requested by each section of the exercise.\n",
    "You will need to interpret these results to answer the questions of the exercise.\n",
    "\n",
    "Variables that will need to be modified will be preceeded by a comment, which clearly marks them as \"to modify\".\n",
    "A comment is a line of code preceeded by the symbol *#*.\n",
    "For example:\n",
    "\n",
    "    # This is a comment\n",
    "\n",
    "An example of variable to modify will look like the following example\n",
    "    \n",
    "    # Modify the value of the following variable\n",
    "    VARAIBLE_TO_MODIFY = 2\n",
    "\n",
    "To modify the variable, change the value following the *=* sign. For example:\n",
    "\n",
    "    VARAIBLE_TO_MODIFY = 3\n",
    "\n",
    "will change the value of *VARAIBLE_TO_MODIFY* from *2* to *3*."
   ]
  },
  {
   "cell_type": "code",
   "execution_count": 2,
   "metadata": {},
   "outputs": [],
   "source": [
    "# Let's start by importing the libraries needed for the exercise\n",
    "import numpy as np  # Library that allows us to work with arrays\n",
    "import PIL          # Library for the manipulation of images"
   ]
  },
  {
   "cell_type": "code",
   "execution_count": null,
   "metadata": {},
   "outputs": [],
   "source": []
  }
 ],
 "metadata": {
  "kernelspec": {
   "display_name": "Python 3",
   "language": "python",
   "name": "python3"
  },
  "language_info": {
   "codemirror_mode": {
    "name": "ipython",
    "version": 3
   },
   "file_extension": ".py",
   "mimetype": "text/x-python",
   "name": "python",
   "nbconvert_exporter": "python",
   "pygments_lexer": "ipython3",
   "version": "3.8.5"
  }
 },
 "nbformat": 4,
 "nbformat_minor": 4
}
